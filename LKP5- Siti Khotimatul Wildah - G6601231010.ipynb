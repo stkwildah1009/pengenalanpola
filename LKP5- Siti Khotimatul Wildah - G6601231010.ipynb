{
  "nbformat": 4,
  "nbformat_minor": 0,
  "metadata": {
    "colab": {
      "provenance": []
    },
    "kernelspec": {
      "name": "python3",
      "display_name": "Python 3"
    },
    "language_info": {
      "name": "python"
    }
  },
  "cells": [
    {
      "cell_type": "markdown",
      "source": [
        "<center><b>PERTEMUAN 5<br>\n",
        "    MODEL HMM Menggunakan Python <br><br></b></center>\n",
        "\n",
        "Nama : Siti Khotimatul Wildahh<br>\n",
        "NIM  : G6601231010"
      ],
      "metadata": {
        "id": "NSnsfnBD8Sfv"
      }
    },
    {
      "cell_type": "code",
      "source": [
        "pip install hmmlearn==0.2.2"
      ],
      "metadata": {
        "colab": {
          "base_uri": "https://localhost:8080/",
          "height": 0
        },
        "id": "BGwhY8JF8WcJ",
        "outputId": "0a9ff432-48fb-43ae-fb3c-56071db68173"
      },
      "execution_count": 5,
      "outputs": [
        {
          "output_type": "stream",
          "name": "stdout",
          "text": [
            "  Preparing metadata (setup.py) ... \u001b[?25l\u001b[?25hdone\n",
            "Requirement already satisfied: numpy>=1.10 in /usr/local/lib/python3.10/dist-packages (from hmmlearn==0.2.2) (1.23.5)\n",
            "Requirement already satisfied: scikit-learn>=0.16 in /usr/local/lib/python3.10/dist-packages (from hmmlearn==0.2.2) (1.2.2)\n",
            "Requirement already satisfied: scipy>=1.3.2 in /usr/local/lib/python3.10/dist-packages (from scikit-learn>=0.16->hmmlearn==0.2.2) (1.11.3)\n",
            "Requirement already satisfied: joblib>=1.1.1 in /usr/local/lib/python3.10/dist-packages (from scikit-learn>=0.16->hmmlearn==0.2.2) (1.3.2)\n",
            "Requirement already satisfied: threadpoolctl>=2.0.0 in /usr/local/lib/python3.10/dist-packages (from scikit-learn>=0.16->hmmlearn==0.2.2) (3.2.0)\n",
            "Building wheels for collected packages: hmmlearn\n",
            "  Building wheel for hmmlearn (setup.py) ... \u001b[?25l\u001b[?25hdone\n",
            "  Created wheel for hmmlearn: filename=hmmlearn-0.2.2-cp310-cp310-linux_x86_64.whl size=465408 sha256=50f887962f7a908aa856afbecec66013c41012e97a5e87ef3545ec2dfbc51509\n",
            "  Stored in directory: /root/.cache/pip/wheels/50/ce/de/18a9f86c6f0c2863350674635b19f0b5149eaa89f6c571dc06\n",
            "Successfully built hmmlearn\n",
            "Installing collected packages: hmmlearn\n",
            "Successfully installed hmmlearn-0.2.2\n"
          ]
        }
      ]
    },
    {
      "cell_type": "code",
      "source": [
        "# Definisi Matrik Transisi (states)\n",
        "\n",
        "states = ('Rainy', 'Sunny')\n",
        "\n",
        "# definisi Matriks Observasi / Matrik emmisi\n",
        "observations = ('walk', 'shop', 'clean')\n",
        "\n",
        "# definisi Matriks Priority\n",
        "start_probability = {'Rainy': 0.6, 'Sunny': 0.4}\n",
        "\n",
        "transition_probability = {\n",
        "   'Rainy' : {'Rainy': 0.7, 'Sunny': 0.3},\n",
        "   'Sunny' : {'Rainy': 0.4, 'Sunny': 0.6},\n",
        "   }\n",
        "\n",
        "emission_probability = {\n",
        "   'Rainy' : {'walk': 0.1, 'shop': 0.4, 'clean': 0.5},\n",
        "   'Sunny' : {'walk': 0.6, 'shop': 0.3, 'clean': 0.1},\n",
        "   }\n"
      ],
      "metadata": {
        "id": "HnqaZ3JRcpYB"
      },
      "execution_count": 6,
      "outputs": []
    },
    {
      "cell_type": "markdown",
      "source": [],
      "metadata": {
        "id": "u78zyf8V8RQH"
      }
    },
    {
      "cell_type": "code",
      "source": [
        "# Library untuk HMM\n",
        "# Cara install pip install hmmlearn==0.2.2\n",
        "\n",
        "from hmmlearn import hmm\n",
        "import numpy as np\n",
        "\n",
        "model = hmm.MultinomialHMM(n_components=2)\n",
        "model.startprob_ = np.array([0.6, 0.4])\n",
        "model.transmat_ = np.array([[0.7, 0.3],\n",
        "                            [0.4, 0.6]])\n",
        "model.emissionprob_ = np.array([[0.1, 0.4, 0.5],\n",
        "                                [0.6, 0.3, 0.1]])\n"
      ],
      "metadata": {
        "id": "axoNq5TRez1V"
      },
      "execution_count": 7,
      "outputs": []
    },
    {
      "cell_type": "code",
      "source": [
        "# contoh untuk observasi 'walk'\n",
        "# peluang dari model jika observasi adalah 'walk'\n",
        "# 0.6 x 0.1 + 0.4 x 0.6 = 0.30 (30%)\n",
        "import math\n",
        "math.exp(model.score(np.array([[0]])))"
      ],
      "metadata": {
        "colab": {
          "base_uri": "https://localhost:8080/",
          "height": 0
        },
        "id": "n1vVSMb8gbBa",
        "outputId": "84219df0-ec7d-461b-c165-184cb879e12b"
      },
      "execution_count": 8,
      "outputs": [
        {
          "output_type": "execute_result",
          "data": {
            "text/plain": [
              "0.30000000000000004"
            ]
          },
          "metadata": {},
          "execution_count": 8
        }
      ]
    },
    {
      "cell_type": "code",
      "source": [
        "# contoh untuk observasi 'shop'\n",
        "# peluang dari model jika observasi adalah 'shop'\n",
        "# 0.6 x 0.4 + 0.4 x 0.3 = (36%)\n",
        "math.exp(model.score(np.array([[1]])))"
      ],
      "metadata": {
        "colab": {
          "base_uri": "https://localhost:8080/",
          "height": 0
        },
        "id": "MKFB9rrBBm-K",
        "outputId": "7fb86034-deff-4fd7-95e9-b332d63ff113"
      },
      "execution_count": 9,
      "outputs": [
        {
          "output_type": "execute_result",
          "data": {
            "text/plain": [
              "0.36000000000000004"
            ]
          },
          "metadata": {},
          "execution_count": 9
        }
      ]
    },
    {
      "cell_type": "code",
      "source": [
        "# contoh untuk observasi 'clean'\n",
        "# peluang dari model jika observasi adalah 'clean'\n",
        "# 0.6 x 0.5 + 0.4 x 0.1 = (34%)\n",
        "math.exp(model.score(np.array([[2]])))"
      ],
      "metadata": {
        "id": "HisgGYDVi6-4",
        "colab": {
          "base_uri": "https://localhost:8080/",
          "height": 0
        },
        "outputId": "6fb8c75a-561d-4384-d16c-2a33bb18c791"
      },
      "execution_count": 10,
      "outputs": [
        {
          "output_type": "execute_result",
          "data": {
            "text/plain": [
              "0.3400000000000001"
            ]
          },
          "metadata": {},
          "execution_count": 10
        }
      ]
    },
    {
      "cell_type": "code",
      "source": [
        "# contoh untuk observasi {'clean', 'clean'}\n",
        "# peluang dari model jika observasi {'clean', 'clean'} adalah\n",
        "math.exp(model.score(np.array([[2,2]])))"
      ],
      "metadata": {
        "colab": {
          "base_uri": "https://localhost:8080/",
          "height": 0
        },
        "id": "Yc1l5FiYkmGF",
        "outputId": "60561b59-86f6-4055-9277-cbf1b576134f"
      },
      "execution_count": 11,
      "outputs": [
        {
          "output_type": "execute_result",
          "data": {
            "text/plain": [
              "0.1244"
            ]
          },
          "metadata": {},
          "execution_count": 11
        }
      ]
    },
    {
      "cell_type": "code",
      "source": [
        "#==== HMM decode dengan algoritma viterbi di dalamnya ======#\n",
        "logprob, seq = model.decode(np.array([[1,2,0]]).transpose())\n",
        "print(math.exp(logprob))\n",
        "print(seq)"
      ],
      "metadata": {
        "colab": {
          "base_uri": "https://localhost:8080/",
          "height": 0
        },
        "id": "cI5TwzG1krK1",
        "outputId": "59dd8c72-3579-4fcf-e8bd-d90f2bb18019"
      },
      "execution_count": 12,
      "outputs": [
        {
          "output_type": "stream",
          "name": "stdout",
          "text": [
            "0.015120000000000003\n",
            "[0 0 1]\n"
          ]
        }
      ]
    },
    {
      "cell_type": "code",
      "source": [
        "logprob, seq = model.decode(np.array([[2,2,2]]).transpose())\n",
        "print(math.exp(logprob))\n",
        "print(seq)"
      ],
      "metadata": {
        "colab": {
          "base_uri": "https://localhost:8080/",
          "height": 0
        },
        "id": "I5SvtdDzlARn",
        "outputId": "40d14f63-b190-49de-b673-edd8f970a3ef"
      },
      "execution_count": 13,
      "outputs": [
        {
          "output_type": "stream",
          "name": "stdout",
          "text": [
            "0.03674999999999999\n",
            "[0 0 0]\n"
          ]
        }
      ]
    },
    {
      "cell_type": "markdown",
      "source": [
        "<b>Tugas Praktikum</b>"
      ],
      "metadata": {
        "id": "Nu44SC9_vnNw"
      }
    },
    {
      "cell_type": "markdown",
      "source": [
        "1. Peluang dari model jika observasi {'clean', 'clean',’walk’, ‘walk’, ‘shop’}"
      ],
      "metadata": {
        "id": "WiiQtBO1vyis"
      }
    },
    {
      "cell_type": "code",
      "source": [
        "# peluang dari model jika observasi {'clean', 'clean',’walk’, ‘walk’, ‘shop’}\n",
        "\n",
        "math.exp(model.score(np.array([[2,2,0,0,1]])))"
      ],
      "metadata": {
        "id": "WLtKX4tLrS_e",
        "colab": {
          "base_uri": "https://localhost:8080/",
          "height": 0
        },
        "outputId": "51054fc8-0e1e-4b8d-a9f7-e6de62db4a59"
      },
      "execution_count": 15,
      "outputs": [
        {
          "output_type": "execute_result",
          "data": {
            "text/plain": [
              "0.004082395400000001"
            ]
          },
          "metadata": {},
          "execution_count": 15
        }
      ]
    },
    {
      "cell_type": "markdown",
      "source": [
        "2. state yang paling baik untuk observasi {'clean', 'clean',’walk’, ‘walk’ shop’}"
      ],
      "metadata": {
        "id": "VJCWE_c4wHe4"
      }
    },
    {
      "cell_type": "code",
      "source": [
        "# Import library\n",
        "from hmmlearn import hmm\n",
        "import numpy as np\n",
        "\n",
        "# Definisi model HMM (seperti yang telah didefinisikan sebelumnya)\n",
        "model = hmm.MultinomialHMM(n_components=2)\n",
        "model.startprob_ = np.array([0.6, 0.4])\n",
        "model.transmat_ = np.array([[0.7, 0.3],\n",
        "                            [0.4, 0.6]])\n",
        "model.emissionprob_ = np.array([[0.1, 0.4, 0.5],\n",
        "                                [0.6, 0.3, 0.1]])\n",
        "\n",
        "# Observasi {'clean', 'clean', 'walk', 'walk', 'shop'}\n",
        "observasi = np.array([[2, 2, 0, 0, 1]])  # Membuat matriks 2D dengan kurung siku ganda\n",
        "\n",
        "# Prediksi state terbaik\n",
        "best_states = model.predict(observasi.T)  # Transposisi matriks observasi\n",
        "\n",
        "# Cetak state terbaik\n",
        "print(f\"State terbaik untuk observasi {'clean', 'clean', 'walk', 'walk', 'shop'} adalah: {best_states}\")\n"
      ],
      "metadata": {
        "colab": {
          "base_uri": "https://localhost:8080/",
          "height": 0
        },
        "id": "CZlmDcQZBjUw",
        "outputId": "3f58ec30-6452-44d5-c88a-b1b7d863a998"
      },
      "execution_count": 19,
      "outputs": [
        {
          "output_type": "stream",
          "name": "stdout",
          "text": [
            "State terbaik untuk observasi ('clean', 'clean', 'walk', 'walk', 'shop') adalah: [0 0 1 1 1]\n"
          ]
        }
      ]
    }
  ]
}